{
 "cells": [
  {
   "cell_type": "markdown",
   "id": "75ee43ca-009c-4d49-851c-f79c40aa40e2",
   "metadata": {},
   "source": [
    "# Scraping Data from a real Website"
   ]
  },
  {
   "cell_type": "code",
   "execution_count": 4,
   "id": "16b65781-e68f-4fab-9ec3-675734d00821",
   "metadata": {},
   "outputs": [],
   "source": [
    "from bs4 import BeautifulSoup\n",
    "import requests"
   ]
  },
  {
   "cell_type": "code",
   "execution_count": 6,
   "id": "abcf8b0f-3581-412c-aefe-c87c1f50c421",
   "metadata": {},
   "outputs": [],
   "source": [
    "url = 'https://en.wikipedia.org/wiki/List_of_largest_companies_in_the_United_States_by_revenue'\n",
    "\n",
    "page = requests.get(url)\n",
    "\n",
    "soup = BeautifulSoup(page.text, 'html')"
   ]
  },
  {
   "cell_type": "raw",
   "id": "20251203-93c9-49de-9da0-00048b09a0db",
   "metadata": {
    "scrolled": true
   },
   "source": [
    "print(soup)"
   ]
  },
  {
   "cell_type": "raw",
   "id": "fd7128b5-9fb8-43fd-8811-9980fb2b8ae4",
   "metadata": {
    "scrolled": true
   },
   "source": [
    "\n",
    "soup.find('table', class_ = 'wikitable sortable')"
   ]
  },
  {
   "cell_type": "raw",
   "id": "d090b626-287f-4677-b9d3-3cc611dbd044",
   "metadata": {
    "scrolled": true
   },
   "source": [
    "soup.find('table')"
   ]
  },
  {
   "cell_type": "raw",
   "id": "11c99438-0355-40ec-b90a-70f3ec1e2ff9",
   "metadata": {
    "scrolled": true
   },
   "source": [
    "soup.find_all('table')[1]"
   ]
  },
  {
   "cell_type": "code",
   "execution_count": null,
   "id": "f5f8b687-a03c-4cc3-9fcf-60573deda1f3",
   "metadata": {},
   "outputs": [],
   "source": []
  },
  {
   "cell_type": "code",
   "execution_count": 16,
   "id": "45cfcd0c-cfde-4b80-b624-0e9d73ee3995",
   "metadata": {},
   "outputs": [],
   "source": [
    "table = soup.find_all('table')[0]"
   ]
  },
  {
   "cell_type": "raw",
   "id": "50fa0374-c60a-4456-958a-7aa307b59a66",
   "metadata": {
    "scrolled": true
   },
   "source": [
    "print(table)"
   ]
  },
  {
   "cell_type": "code",
   "execution_count": 20,
   "id": "6c1b36f1-ddc6-43d9-a60c-f13fd52b6286",
   "metadata": {},
   "outputs": [],
   "source": [
    "world_titles = table.find_all('th')"
   ]
  },
  {
   "cell_type": "code",
   "execution_count": 22,
   "id": "21a56542-b2fc-4213-9a51-53ec6df1f934",
   "metadata": {},
   "outputs": [
    {
     "name": "stdout",
     "output_type": "stream",
     "text": [
      "['Rank', 'Name', 'Industry', 'Revenue (USD millions)', 'Revenue growth', 'Employees', 'Headquarters']\n"
     ]
    }
   ],
   "source": [
    "world_table_titles = [title.text.strip() for title in world_titles]\n",
    "\n",
    "print(world_table_titles)"
   ]
  },
  {
   "cell_type": "code",
   "execution_count": null,
   "id": "a19fed03-5d60-4eef-bbe2-05a1c375fa50",
   "metadata": {},
   "outputs": [],
   "source": []
  },
  {
   "cell_type": "code",
   "execution_count": 24,
   "id": "25a30eff-0453-4779-b9ab-8195b025bbbf",
   "metadata": {},
   "outputs": [],
   "source": [
    "import pandas as pd"
   ]
  },
  {
   "cell_type": "code",
   "execution_count": 26,
   "id": "d02fb8ff-21c3-430d-88e4-a761fb46b390",
   "metadata": {},
   "outputs": [
    {
     "data": {
      "text/html": [
       "<div>\n",
       "<style scoped>\n",
       "    .dataframe tbody tr th:only-of-type {\n",
       "        vertical-align: middle;\n",
       "    }\n",
       "\n",
       "    .dataframe tbody tr th {\n",
       "        vertical-align: top;\n",
       "    }\n",
       "\n",
       "    .dataframe thead th {\n",
       "        text-align: right;\n",
       "    }\n",
       "</style>\n",
       "<table border=\"1\" class=\"dataframe\">\n",
       "  <thead>\n",
       "    <tr style=\"text-align: right;\">\n",
       "      <th></th>\n",
       "      <th>Rank</th>\n",
       "      <th>Name</th>\n",
       "      <th>Industry</th>\n",
       "      <th>Revenue (USD millions)</th>\n",
       "      <th>Revenue growth</th>\n",
       "      <th>Employees</th>\n",
       "      <th>Headquarters</th>\n",
       "    </tr>\n",
       "  </thead>\n",
       "  <tbody>\n",
       "  </tbody>\n",
       "</table>\n",
       "</div>"
      ],
      "text/plain": [
       "Empty DataFrame\n",
       "Columns: [Rank, Name, Industry, Revenue (USD millions), Revenue growth, Employees, Headquarters]\n",
       "Index: []"
      ]
     },
     "execution_count": 26,
     "metadata": {},
     "output_type": "execute_result"
    }
   ],
   "source": [
    "df = pd.DataFrame(columns = world_table_titles)\n",
    "\n",
    "df"
   ]
  },
  {
   "cell_type": "code",
   "execution_count": 28,
   "id": "bfbc0cf6-8b2a-4490-bc0b-ef585da49457",
   "metadata": {},
   "outputs": [],
   "source": [
    "column_data = table.find_all('tr')"
   ]
  },
  {
   "cell_type": "code",
   "execution_count": 30,
   "id": "e2f1bd78-1006-4db1-bcb8-76e7c814d0d9",
   "metadata": {},
   "outputs": [],
   "source": [
    "for row in column_data[1:]:\n",
    "    row_data = row.find_all('td')\n",
    "    individual_row_data = [data.text.strip() for data in row_data]\n",
    "\n",
    "    lenght = len(df)\n",
    "    df.loc[lenght] =  individual_row_data"
   ]
  },
  {
   "cell_type": "code",
   "execution_count": 32,
   "id": "c72959e9-913e-41cf-99f7-1bbf74a09c8a",
   "metadata": {},
   "outputs": [
    {
     "data": {
      "text/html": [
       "<div>\n",
       "<style scoped>\n",
       "    .dataframe tbody tr th:only-of-type {\n",
       "        vertical-align: middle;\n",
       "    }\n",
       "\n",
       "    .dataframe tbody tr th {\n",
       "        vertical-align: top;\n",
       "    }\n",
       "\n",
       "    .dataframe thead th {\n",
       "        text-align: right;\n",
       "    }\n",
       "</style>\n",
       "<table border=\"1\" class=\"dataframe\">\n",
       "  <thead>\n",
       "    <tr style=\"text-align: right;\">\n",
       "      <th></th>\n",
       "      <th>Rank</th>\n",
       "      <th>Name</th>\n",
       "      <th>Industry</th>\n",
       "      <th>Revenue (USD millions)</th>\n",
       "      <th>Revenue growth</th>\n",
       "      <th>Employees</th>\n",
       "      <th>Headquarters</th>\n",
       "    </tr>\n",
       "  </thead>\n",
       "  <tbody>\n",
       "    <tr>\n",
       "      <th>0</th>\n",
       "      <td>1</td>\n",
       "      <td>Walmart</td>\n",
       "      <td>Retail</td>\n",
       "      <td>648,125</td>\n",
       "      <td>6.0%</td>\n",
       "      <td>2,100,000</td>\n",
       "      <td>Bentonville, Arkansas</td>\n",
       "    </tr>\n",
       "    <tr>\n",
       "      <th>1</th>\n",
       "      <td>2</td>\n",
       "      <td>Amazon</td>\n",
       "      <td>Retail and cloud computing</td>\n",
       "      <td>574,785</td>\n",
       "      <td>11.9%</td>\n",
       "      <td>1,525,000</td>\n",
       "      <td>Seattle, Washington</td>\n",
       "    </tr>\n",
       "    <tr>\n",
       "      <th>2</th>\n",
       "      <td>3</td>\n",
       "      <td>Apple</td>\n",
       "      <td>Electronics industry</td>\n",
       "      <td>383,482</td>\n",
       "      <td>-2.8%</td>\n",
       "      <td>161,000</td>\n",
       "      <td>Cupertino, California</td>\n",
       "    </tr>\n",
       "    <tr>\n",
       "      <th>3</th>\n",
       "      <td>4</td>\n",
       "      <td>UnitedHealth Group</td>\n",
       "      <td>Healthcare</td>\n",
       "      <td>371,622</td>\n",
       "      <td>14.6%</td>\n",
       "      <td>440,000</td>\n",
       "      <td>Minnetonka, Minnesota</td>\n",
       "    </tr>\n",
       "    <tr>\n",
       "      <th>4</th>\n",
       "      <td>5</td>\n",
       "      <td>Berkshire Hathaway</td>\n",
       "      <td>Conglomerate</td>\n",
       "      <td>364,482</td>\n",
       "      <td>20.7%</td>\n",
       "      <td>396,500</td>\n",
       "      <td>Omaha, Nebraska</td>\n",
       "    </tr>\n",
       "    <tr>\n",
       "      <th>...</th>\n",
       "      <td>...</td>\n",
       "      <td>...</td>\n",
       "      <td>...</td>\n",
       "      <td>...</td>\n",
       "      <td>...</td>\n",
       "      <td>...</td>\n",
       "      <td>...</td>\n",
       "    </tr>\n",
       "    <tr>\n",
       "      <th>95</th>\n",
       "      <td>96</td>\n",
       "      <td>TIAA</td>\n",
       "      <td>Financials</td>\n",
       "      <td>45,735</td>\n",
       "      <td>11.8%</td>\n",
       "      <td>16,023</td>\n",
       "      <td>New York City, New York</td>\n",
       "    </tr>\n",
       "    <tr>\n",
       "      <th>96</th>\n",
       "      <td>97</td>\n",
       "      <td>CHS</td>\n",
       "      <td>Agriculture cooperative</td>\n",
       "      <td>45,590</td>\n",
       "      <td>-4.6%</td>\n",
       "      <td>10,609</td>\n",
       "      <td>Inver Grove Heights, Minnesota</td>\n",
       "    </tr>\n",
       "    <tr>\n",
       "      <th>97</th>\n",
       "      <td>98</td>\n",
       "      <td>Bristol-Myers Squibb</td>\n",
       "      <td>Pharmaceutical industry</td>\n",
       "      <td>45,006</td>\n",
       "      <td>-2.5%</td>\n",
       "      <td>34,100</td>\n",
       "      <td>New York City, New York</td>\n",
       "    </tr>\n",
       "    <tr>\n",
       "      <th>98</th>\n",
       "      <td>99</td>\n",
       "      <td>Dow Chemical Company</td>\n",
       "      <td>Chemical industry</td>\n",
       "      <td>44,622</td>\n",
       "      <td>-21.6%</td>\n",
       "      <td>35,900</td>\n",
       "      <td>Midland, Michigan</td>\n",
       "    </tr>\n",
       "    <tr>\n",
       "      <th>99</th>\n",
       "      <td>100</td>\n",
       "      <td>Best Buy</td>\n",
       "      <td>Retail</td>\n",
       "      <td>43,452</td>\n",
       "      <td>-6.1%</td>\n",
       "      <td>85,000</td>\n",
       "      <td>Richfield, Minnesota</td>\n",
       "    </tr>\n",
       "  </tbody>\n",
       "</table>\n",
       "<p>100 rows × 7 columns</p>\n",
       "</div>"
      ],
      "text/plain": [
       "   Rank                  Name                    Industry  \\\n",
       "0     1               Walmart                      Retail   \n",
       "1     2                Amazon  Retail and cloud computing   \n",
       "2     3                 Apple        Electronics industry   \n",
       "3     4    UnitedHealth Group                  Healthcare   \n",
       "4     5    Berkshire Hathaway                Conglomerate   \n",
       "..  ...                   ...                         ...   \n",
       "95   96                  TIAA                  Financials   \n",
       "96   97                   CHS     Agriculture cooperative   \n",
       "97   98  Bristol-Myers Squibb     Pharmaceutical industry   \n",
       "98   99  Dow Chemical Company           Chemical industry   \n",
       "99  100              Best Buy                      Retail   \n",
       "\n",
       "   Revenue (USD millions) Revenue growth  Employees  \\\n",
       "0                 648,125           6.0%  2,100,000   \n",
       "1                 574,785          11.9%  1,525,000   \n",
       "2                 383,482          -2.8%    161,000   \n",
       "3                 371,622          14.6%    440,000   \n",
       "4                 364,482          20.7%    396,500   \n",
       "..                    ...            ...        ...   \n",
       "95                 45,735          11.8%     16,023   \n",
       "96                 45,590          -4.6%     10,609   \n",
       "97                 45,006          -2.5%     34,100   \n",
       "98                 44,622         -21.6%     35,900   \n",
       "99                 43,452          -6.1%     85,000   \n",
       "\n",
       "                      Headquarters  \n",
       "0            Bentonville, Arkansas  \n",
       "1              Seattle, Washington  \n",
       "2            Cupertino, California  \n",
       "3            Minnetonka, Minnesota  \n",
       "4                  Omaha, Nebraska  \n",
       "..                             ...  \n",
       "95         New York City, New York  \n",
       "96  Inver Grove Heights, Minnesota  \n",
       "97         New York City, New York  \n",
       "98               Midland, Michigan  \n",
       "99            Richfield, Minnesota  \n",
       "\n",
       "[100 rows x 7 columns]"
      ]
     },
     "execution_count": 32,
     "metadata": {},
     "output_type": "execute_result"
    }
   ],
   "source": [
    "df"
   ]
  },
  {
   "cell_type": "code",
   "execution_count": 40,
   "id": "3475421b-6786-4785-9aaf-d7b895418539",
   "metadata": {},
   "outputs": [],
   "source": [
    "df.to_csv(r'C:\\Users\\petro\\OneDrive\\Рабочий стол\\Data analyst\\Python\\Companies.csv', index = False)"
   ]
  },
  {
   "cell_type": "code",
   "execution_count": null,
   "id": "bd1ce416-e16b-4045-a429-d8592144ff1d",
   "metadata": {},
   "outputs": [],
   "source": []
  },
  {
   "cell_type": "code",
   "execution_count": null,
   "id": "e5e28779-2fb1-4a94-98e1-34cdd7c2f2e9",
   "metadata": {},
   "outputs": [],
   "source": []
  },
  {
   "cell_type": "code",
   "execution_count": null,
   "id": "2fdd11bb-b5ea-4fac-98cc-fc167405e12b",
   "metadata": {},
   "outputs": [],
   "source": []
  }
 ],
 "metadata": {
  "kernelspec": {
   "display_name": "Python [conda env:base] *",
   "language": "python",
   "name": "conda-base-py"
  },
  "language_info": {
   "codemirror_mode": {
    "name": "ipython",
    "version": 3
   },
   "file_extension": ".py",
   "mimetype": "text/x-python",
   "name": "python",
   "nbconvert_exporter": "python",
   "pygments_lexer": "ipython3",
   "version": "3.12.7"
  }
 },
 "nbformat": 4,
 "nbformat_minor": 5
}
